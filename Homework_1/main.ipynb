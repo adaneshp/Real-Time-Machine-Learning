{
 "cells": [
  {
   "cell_type": "markdown",
   "metadata": {
    "id": "0waSFEj_lLL-"
   },
   "source": [
    "# Real-time Machine Learning - Homework 1\n",
    "### Armin Danesh\n",
    "\n",
    "## Problem 1\n",
    "------------------\n",
    "\n",
    "First we open the images using pillow"
   ]
  },
  {
   "cell_type": "code",
   "execution_count": 68,
   "metadata": {
    "id": "3j1vPtgicqhw"
   },
   "outputs": [],
   "source": [
    "#importing pillow and numpy\n",
    "from PIL import Image\n",
    "import numpy as np"
   ]
  },
  {
   "cell_type": "code",
   "execution_count": 69,
   "metadata": {
    "id": "tD65B_H4c5Gr"
   },
   "outputs": [],
   "source": [
    "#opennign the images\n",
    "red_img = Image.open('red.jpg')\n",
    "green_img = Image.open('green.jpg')\n",
    "blue_img = Image.open('blue.jpg')"
   ]
  },
  {
   "cell_type": "markdown",
   "metadata": {
    "id": "Pv3L3wJXlrtp"
   },
   "source": [
    "Now to make sure that the images are correctly opened, we check the shape of the images:"
   ]
  },
  {
   "cell_type": "code",
   "execution_count": 60,
   "metadata": {
    "colab": {
     "base_uri": "https://localhost:8080/"
    },
    "id": "hTlnwKDhdP4y",
    "outputId": "fd678058-250f-4e5e-827e-1d0588bae6e2"
   },
   "outputs": [
    {
     "data": {
      "text/plain": [
       "((1280, 853), (1280, 832), (2000, 1333))"
      ]
     },
     "execution_count": 60,
     "metadata": {},
     "output_type": "execute_result"
    }
   ],
   "source": [
    "#checking the size of the images\n",
    "red_img.size, green_img.size, blue_img.size"
   ]
  },
  {
   "cell_type": "markdown",
   "metadata": {
    "id": "XepDuMQdlzsC"
   },
   "source": [
    "They are in different shapes, however since we want to take the mean this does not matter, and we do not need to crop the images.\n",
    "\n",
    "Now, we convert the images into numpy arrays. This step is redundant and images can be directly converted to torch.tensor, but it is good to  have a sample code here. "
   ]
  },
  {
   "cell_type": "code",
   "execution_count": 70,
   "metadata": {
    "id": "uU8pw5YVf1xo"
   },
   "outputs": [],
   "source": [
    "#converting images to np array (this is redundant, but wanted to have it)\n",
    "red_arr = np.array(red_img)\n",
    "green_arr = np.array(green_img)\n",
    "blue_arr = np.array(blue_img)"
   ]
  },
  {
   "cell_type": "code",
   "execution_count": 62,
   "metadata": {
    "colab": {
     "base_uri": "https://localhost:8080/"
    },
    "id": "-t6JqY_FgrlQ",
    "outputId": "6245a89b-e2c0-4f86-ebd3-538ae0a520f8"
   },
   "outputs": [
    {
     "data": {
      "text/plain": [
       "((853, 1280, 3), (832, 1280, 3), (1333, 2000, 3))"
      ]
     },
     "execution_count": 62,
     "metadata": {},
     "output_type": "execute_result"
    }
   ],
   "source": [
    "#checking the shapes\n",
    "red_arr.shape, green_arr.shape, blue_arr.shape"
   ]
  },
  {
   "cell_type": "markdown",
   "metadata": {
    "id": "jVqJoE1kmNqp"
   },
   "source": [
    "Here we convert all the np arrays to torch tensors:"
   ]
  },
  {
   "cell_type": "code",
   "execution_count": 71,
   "metadata": {
    "id": "75Y244bvg-EL"
   },
   "outputs": [],
   "source": [
    "#importing torch\n",
    "import torch"
   ]
  },
  {
   "cell_type": "code",
   "execution_count": 72,
   "metadata": {
    "id": "auN7WUQ9hOmn"
   },
   "outputs": [],
   "source": [
    "#converting np arrays to torch tensor\n",
    "red_tensor = torch.tensor(red_arr, dtype = torch.float32)\n",
    "green_tensor = torch.tensor(green_arr, dtype = torch.float32)\n",
    "blue_tensor = torch.tensor(blue_arr, dtype = torch.float32)"
   ]
  },
  {
   "cell_type": "code",
   "execution_count": 73,
   "metadata": {
    "colab": {
     "base_uri": "https://localhost:8080/"
    },
    "id": "G_A-wHaKhXff",
    "outputId": "3cc8b303-5c49-4f96-d2ca-89255e71cfc4"
   },
   "outputs": [
    {
     "data": {
      "text/plain": [
       "(torch.Size([853, 1280, 3]),\n",
       " torch.Size([832, 1280, 3]),\n",
       " torch.Size([1333, 2000, 3]))"
      ]
     },
     "execution_count": 73,
     "metadata": {},
     "output_type": "execute_result"
    }
   ],
   "source": [
    "#checking the shape of the tensors\n",
    "red_tensor.shape, green_tensor.shape, blue_tensor.shape"
   ]
  },
  {
   "cell_type": "markdown",
   "metadata": {
    "id": "-drZpoNDmT5F"
   },
   "source": [
    "For checking the brighness we just have to get the mean of all the numbers in the tensor. The higher the number, the brighter the image is:"
   ]
  },
  {
   "cell_type": "code",
   "execution_count": 74,
   "metadata": {
    "colab": {
     "base_uri": "https://localhost:8080/"
    },
    "id": "KiFV2k5DhqlD",
    "outputId": "c406d697-5864-4c9f-c35c-d07232af2a74"
   },
   "outputs": [
    {
     "data": {
      "text/plain": [
       "(tensor(114.2073), tensor(56.6266), tensor(83.2382))"
      ]
     },
     "execution_count": 74,
     "metadata": {},
     "output_type": "execute_result"
    }
   ],
   "source": [
    "#getting the mean to check the brightness of the images\n",
    "red_mean = torch.mean(red_tensor)\n",
    "green_mean = torch.mean(green_tensor)\n",
    "blue_mean = torch.mean(blue_tensor)\n",
    "red_mean, green_mean, blue_mean"
   ]
  },
  {
   "cell_type": "markdown",
   "metadata": {
    "id": "xA56eLklmeic"
   },
   "source": [
    "Based on the outputs, we know that the red image is the brightest, then the blue image and finally the green image.\n",
    "\n",
    "It is also possible to look at the mean of each channgel and roughly guess the main color of the image:"
   ]
  },
  {
   "cell_type": "code",
   "execution_count": 75,
   "metadata": {
    "colab": {
     "base_uri": "https://localhost:8080/"
    },
    "id": "0b91Mqwqh0V3",
    "outputId": "13f96ee6-d0ef-47b1-bce6-6d1ee6e127e3"
   },
   "outputs": [
    {
     "data": {
      "text/plain": [
       "(tensor(221.5404), tensor(61.4895), tensor(59.5919))"
      ]
     },
     "execution_count": 75,
     "metadata": {},
     "output_type": "execute_result"
    }
   ],
   "source": [
    "#getting the mean of each channel to figure out the main color\n",
    "red_r_mean = torch.mean(red_tensor[:,:,0])\n",
    "red_g_mean = torch.mean(red_tensor[:,:,1])\n",
    "red_b_mean = torch.mean(red_tensor[:,:,2])\n",
    "red_r_mean, red_g_mean, red_b_mean"
   ]
  },
  {
   "cell_type": "code",
   "execution_count": 57,
   "metadata": {
    "colab": {
     "base_uri": "https://localhost:8080/"
    },
    "id": "ZcPFoJFQkJTR",
    "outputId": "8f68dcb3-2457-45d3-a00e-126c0b0f607e"
   },
   "outputs": [
    {
     "data": {
      "text/plain": [
       "(tensor(39.0309), tensor(112.0930), tensor(18.7558))"
      ]
     },
     "execution_count": 57,
     "metadata": {},
     "output_type": "execute_result"
    }
   ],
   "source": [
    "#getting the mean of each channel to figure out the main color\n",
    "green_r_mean = torch.mean(green_tensor[:,:,0])\n",
    "green_g_mean = torch.mean(green_tensor[:,:,1])\n",
    "green_b_mean = torch.mean(green_tensor[:,:,2])\n",
    "green_r_mean, green_g_mean, green_b_mean"
   ]
  },
  {
   "cell_type": "code",
   "execution_count": 56,
   "metadata": {
    "colab": {
     "base_uri": "https://localhost:8080/"
    },
    "id": "LKOcARokjzs-",
    "outputId": "4c43adae-9ac5-46ac-c7ed-966cfb7f5db3"
   },
   "outputs": [
    {
     "data": {
      "text/plain": [
       "(tensor(83.2382), tensor(96.5594), tensor(142.4650))"
      ]
     },
     "execution_count": 56,
     "metadata": {},
     "output_type": "execute_result"
    }
   ],
   "source": [
    "#getting the mean of each channel to figure out the main color\n",
    "blue_r_mean = torch.mean(blue_tensor[:,:,0])\n",
    "blue_g_mean = torch.mean(blue_tensor[:,:,1])\n",
    "blue_b_mean = torch.mean(blue_tensor[:,:,2])\n",
    "blue_mean, blue_g_mean, blue_b_mean"
   ]
  },
  {
   "cell_type": "markdown",
   "metadata": {
    "id": "IYKe0Trbmw2x"
   },
   "source": [
    "We can see that for the red image, the first channel (red) has the highest mean. For the green image the second channel (green) has the highest mean and for the blue image the third channel (blue) has the highest mean."
   ]
  },
  {
   "cell_type": "markdown",
   "metadata": {
    "id": "VILZ8oganUnX"
   },
   "source": [
    "## Problem 2"
   ]
  },
  {
   "cell_type": "markdown",
   "metadata": {
    "id": "GSJ9gxM9nPYf"
   },
   "source": [
    "-----------------------\n",
    "\n",
    "First we bring everything from the lectures. However since we are moving from linear model to quadratic, we have to change the model, the derivative calculation and the gradiant function. According to this change, the final grad_fn changes: "
   ]
  },
  {
   "cell_type": "code",
   "execution_count": 88,
   "metadata": {
    "id": "CumN5exBnN6h"
   },
   "outputs": [],
   "source": [
    "t_c = [0.5, 14.0, 15.0, 28.0, 11.0, 8.0, 3.0, -4.0, 6.0, 13.0, 21.0]\n",
    "t_u = [35.7, 55.9, 58.2, 81.9, 56.3, 48.9, 33.9, 21.8, 48.4, 60.4, 68.4]\n",
    "\n",
    "t_c = torch.tensor(t_c)\n",
    "t_u = torch.tensor(t_u)\n",
    "\n",
    "def model (t_u, w2, w1, b):\n",
    "  return w2 * t_u ** 2 + w1 * t_u + b\n",
    "\n",
    "def loss_fn (t_p, t_c):\n",
    "  squared_diffs = (t_p - t_c)**2\n",
    "  return squared_diffs.mean()\n",
    "\n",
    "def dloss_fn (t_p, t_c):\n",
    "  return 2 * (t_p - t_c) / t_p.size(0)\n",
    "\n",
    "def dmodel_dw2 (t_u, w2):\n",
    "  return 2 * w2 * t_u\n",
    "\n",
    "def dmodel_dw1 (t_u, w1):\n",
    "  return w1\n",
    "\n",
    "def dmodel_db (t_u, b):\n",
    "  return 1.0\n",
    "\n",
    "def grad_fn (t_u, t_c, t_p, w2, w1, b):\n",
    "  dloss_dtp = dloss_fn(t_p, t_c)\n",
    "  dloss_dw2 = dloss_dtp * dmodel_dw2(t_u, w2)\n",
    "  dloss_dw1 = dloss_dtp * dmodel_dw1(t_u, w1)\n",
    "  dloss_db  = dloss_dtp * dmodel_db(t_u, b)\n",
    "  return torch.stack([dloss_dw2.sum(), dloss_dw1.sum(), dloss_db.sum()])\n",
    "\n",
    "def training_loop (n_epochs, learning_rate, params, t_u, t_c):\n",
    "  for epoch in range(1, n_epochs + 1):\n",
    "    w2, w1, b = params\n",
    "    \n",
    "    t_p = model(t_u, w2, w1, b)\n",
    "    loss = loss_fn(t_p, t_c)\n",
    "    grad = grad_fn(t_u, t_c, t_p, w2, w1, b)\n",
    "\n",
    "    params = params - learning_rate * grad\n",
    "    if (epoch % 500 == 0):\n",
    "      print ('Epoch %d, Loss %f' % (epoch, float(loss)))\n",
    "\n",
    "  return params\n",
    "\n",
    "t_un = 0.1 * t_u"
   ]
  },
  {
   "cell_type": "markdown",
   "metadata": {
    "id": "s0E8yt4-0o3k"
   },
   "source": [
    "Now we start the training with a high learning rate and change it until we see the best loss:"
   ]
  },
  {
   "cell_type": "code",
   "execution_count": 108,
   "metadata": {
    "colab": {
     "base_uri": "https://localhost:8080/"
    },
    "id": "Zw1s4OGOq6S7",
    "outputId": "f26e2192-ea3a-47fa-d659-55fb15491888"
   },
   "outputs": [
    {
     "name": "stdout",
     "output_type": "stream",
     "text": [
      "Epoch 500, Loss nan\n",
      "Epoch 1000, Loss nan\n",
      "Epoch 1500, Loss nan\n",
      "Epoch 2000, Loss nan\n",
      "Epoch 2500, Loss nan\n",
      "Epoch 3000, Loss nan\n",
      "Epoch 3500, Loss nan\n",
      "Epoch 4000, Loss nan\n",
      "Epoch 4500, Loss nan\n",
      "Epoch 5000, Loss nan\n"
     ]
    }
   ],
   "source": [
    "params1 = training_loop(n_epochs = 5000, learning_rate = 0.1, \n",
    "              params = torch.tensor([1.0, 1.0, 0.0]),\n",
    "              t_u = t_un, t_c = t_c)"
   ]
  },
  {
   "cell_type": "code",
   "execution_count": 109,
   "metadata": {
    "colab": {
     "base_uri": "https://localhost:8080/"
    },
    "id": "N6n6-IeCvQwI",
    "outputId": "3452ea03-dd05-472d-cbb4-3cae5115a1ad"
   },
   "outputs": [
    {
     "name": "stdout",
     "output_type": "stream",
     "text": [
      "Epoch 500, Loss nan\n",
      "Epoch 1000, Loss nan\n",
      "Epoch 1500, Loss nan\n",
      "Epoch 2000, Loss nan\n",
      "Epoch 2500, Loss nan\n",
      "Epoch 3000, Loss nan\n",
      "Epoch 3500, Loss nan\n",
      "Epoch 4000, Loss nan\n",
      "Epoch 4500, Loss nan\n",
      "Epoch 5000, Loss nan\n"
     ]
    }
   ],
   "source": [
    "params2 = training_loop(n_epochs = 5000, learning_rate = 0.01, \n",
    "              params = torch.tensor([1.0, 1.0, 0.0]),\n",
    "              t_u = t_un, t_c = t_c)"
   ]
  },
  {
   "cell_type": "code",
   "execution_count": 110,
   "metadata": {
    "colab": {
     "base_uri": "https://localhost:8080/"
    },
    "id": "xbihkC0YwYII",
    "outputId": "9343bd9b-f12b-4419-fb2f-e719887853f1"
   },
   "outputs": [
    {
     "name": "stdout",
     "output_type": "stream",
     "text": [
      "Epoch 500, Loss 8.207376\n",
      "Epoch 1000, Loss 5.957879\n",
      "Epoch 1500, Loss 4.793697\n",
      "Epoch 2000, Loss 4.094471\n",
      "Epoch 2500, Loss 3.641978\n",
      "Epoch 3000, Loss 3.337545\n",
      "Epoch 3500, Loss 3.128551\n",
      "Epoch 4000, Loss 2.983709\n",
      "Epoch 4500, Loss 2.883058\n",
      "Epoch 5000, Loss 2.813279\n"
     ]
    }
   ],
   "source": [
    "params3 = training_loop(n_epochs = 5000, learning_rate = 0.001, \n",
    "              params = torch.tensor([1.0, 1.0, 0.0]),\n",
    "              t_u = t_un, t_c = t_c)"
   ]
  },
  {
   "cell_type": "code",
   "execution_count": 111,
   "metadata": {
    "colab": {
     "base_uri": "https://localhost:8080/"
    },
    "id": "Fcz5tF7xwZxo",
    "outputId": "40468c5a-cd18-49c1-c71a-358112d5b7ee"
   },
   "outputs": [
    {
     "name": "stdout",
     "output_type": "stream",
     "text": [
      "Epoch 500, Loss 12.978827\n",
      "Epoch 1000, Loss 12.147491\n",
      "Epoch 1500, Loss 11.419821\n",
      "Epoch 2000, Loss 10.779087\n",
      "Epoch 2500, Loss 10.211207\n",
      "Epoch 3000, Loss 9.704861\n",
      "Epoch 3500, Loss 9.250857\n",
      "Epoch 4000, Loss 8.841681\n",
      "Epoch 4500, Loss 8.471140\n",
      "Epoch 5000, Loss 8.134112\n"
     ]
    }
   ],
   "source": [
    "params4 = training_loop(n_epochs = 5000, learning_rate = 0.0001, \n",
    "              params = torch.tensor([1.0, 1.0, 0.0]),\n",
    "              t_u = t_un, t_c = t_c)"
   ]
  },
  {
   "cell_type": "markdown",
   "metadata": {
    "id": "zOulNxe500sF"
   },
   "source": [
    "As you can see, 0.001 gives us the best loss. When we move to 0.0001, our model converges at a lower pace, and needs more epochs to reach a better loss. Thus, here we consider the third training process as the best one.\n",
    "\n",
    "Now we plot it alongside the model from the lectures to see which one gives the best result:"
   ]
  },
  {
   "cell_type": "code",
   "execution_count": 112,
   "metadata": {
    "id": "OUQbE6xdwlE-"
   },
   "outputs": [],
   "source": [
    "from matplotlib import pyplot as plt"
   ]
  },
  {
   "cell_type": "code",
   "execution_count": 116,
   "metadata": {
    "colab": {
     "base_uri": "https://localhost:8080/",
     "height": 872
    },
    "id": "RYkHBGYyxU74",
    "outputId": "8794756f-ab20-4a44-8d77-e9e810ab04bd"
   },
   "outputs": [
    {
     "data": {
      "text/plain": [
       "[<matplotlib.lines.Line2D at 0x7f62d34c8610>]"
      ]
     },
     "execution_count": 116,
     "metadata": {},
     "output_type": "execute_result"
    },
    {
     "data": {
      "image/png": "[encoded data removed]",
      "text/plain": [
       "<Figure size 1920x1440 with 1 Axes>"
      ]
     },
     "metadata": {
      "needs_background": "light"
     },
     "output_type": "display_data"
    }
   ],
   "source": [
    "t_p = model (t_un, *params3)\n",
    "\n",
    "fig = plt.figure(figsize = [6.4, 4.8], dpi = 300)\n",
    "plt.xlabel (\"Temperature (F)\")\n",
    "plt.ylabel (\"Temperature (C)\")\n",
    "plt.plot (t_u.numpy(), t_c.numpy(), \"o\")\n",
    "plt.plot (t_u.numpy() ,5.3671 * t_un - 17.3012)\n",
    "plt.plot (np.sort(t_u.numpy()), np.sort(t_p.numpy()))"
   ]
  },
  {
   "cell_type": "markdown",
   "metadata": {
    "id": "_pOk9DQ12HLF"
   },
   "source": [
    "The loss from the lectures is 2.92 but the loss here is 2.81. Thus the non-linearity increases the quality of the model."
   ]
  },
  {
   "cell_type": "markdown",
   "metadata": {
    "id": "IIuiVb4l2fGM"
   },
   "source": [
    "## Promlem 3\n",
    "-----------------------"
   ]
  },
  {
   "cell_type": "markdown",
   "metadata": {
    "id": "ELXydKe4Z2ZQ"
   },
   "source": [
    "First we have to load the .csv file. To do so we use pandas."
   ]
  },
  {
   "cell_type": "code",
   "execution_count": 217,
   "metadata": {
    "id": "yV6dzZ3F2YFT"
   },
   "outputs": [],
   "source": [
    "import pandas as pd"
   ]
  },
  {
   "cell_type": "code",
   "execution_count": 218,
   "metadata": {
    "colab": {
     "base_uri": "https://localhost:8080/",
     "height": 270
    },
    "id": "CCc6ge_M7X5i",
    "outputId": "e2dec8b2-ba9d-4da9-8311-015dafc7aa7c"
   },
   "outputs": [
    {
     "data": {
      "text/html": [
       "\n",
       "  <div id=\"df-090b90e6-7829-4609-b530-dc1cbe1cd547\">\n",
       "    <div class=\"colab-df-container\">\n",
       "      <div>\n",
       "<style scoped>\n",
       "    .dataframe tbody tr th:only-of-type {\n",
       "        vertical-align: middle;\n",
       "    }\n",
       "\n",
       "    .dataframe tbody tr th {\n",
       "        vertical-align: top;\n",
       "    }\n",
       "\n",
       "    .dataframe thead th {\n",
       "        text-align: right;\n",
       "    }\n",
       "</style>\n",
       "<table border=\"1\" class=\"dataframe\">\n",
       "  <thead>\n",
       "    <tr style=\"text-align: right;\">\n",
       "      <th></th>\n",
       "      <th>price</th>\n",
       "      <th>area</th>\n",
       "      <th>bedrooms</th>\n",
       "      <th>bathrooms</th>\n",
       "      <th>stories</th>\n",
       "      <th>mainroad</th>\n",
       "      <th>guestroom</th>\n",
       "      <th>basement</th>\n",
       "      <th>hotwaterheating</th>\n",
       "      <th>airconditioning</th>\n",
       "      <th>parking</th>\n",
       "      <th>prefarea</th>\n",
       "      <th>furnishingstatus</th>\n",
       "    </tr>\n",
       "  </thead>\n",
       "  <tbody>\n",
       "    <tr>\n",
       "      <th>0</th>\n",
       "      <td>13300000</td>\n",
       "      <td>7420</td>\n",
       "      <td>4</td>\n",
       "      <td>2</td>\n",
       "      <td>3</td>\n",
       "      <td>yes</td>\n",
       "      <td>no</td>\n",
       "      <td>no</td>\n",
       "      <td>no</td>\n",
       "      <td>yes</td>\n",
       "      <td>2</td>\n",
       "      <td>yes</td>\n",
       "      <td>furnished</td>\n",
       "    </tr>\n",
       "    <tr>\n",
       "      <th>1</th>\n",
       "      <td>12250000</td>\n",
       "      <td>8960</td>\n",
       "      <td>4</td>\n",
       "      <td>4</td>\n",
       "      <td>4</td>\n",
       "      <td>yes</td>\n",
       "      <td>no</td>\n",
       "      <td>no</td>\n",
       "      <td>no</td>\n",
       "      <td>yes</td>\n",
       "      <td>3</td>\n",
       "      <td>no</td>\n",
       "      <td>furnished</td>\n",
       "    </tr>\n",
       "    <tr>\n",
       "      <th>2</th>\n",
       "      <td>12250000</td>\n",
       "      <td>9960</td>\n",
       "      <td>3</td>\n",
       "      <td>2</td>\n",
       "      <td>2</td>\n",
       "      <td>yes</td>\n",
       "      <td>no</td>\n",
       "      <td>yes</td>\n",
       "      <td>no</td>\n",
       "      <td>no</td>\n",
       "      <td>2</td>\n",
       "      <td>yes</td>\n",
       "      <td>semi-furnished</td>\n",
       "    </tr>\n",
       "    <tr>\n",
       "      <th>3</th>\n",
       "      <td>12215000</td>\n",
       "      <td>7500</td>\n",
       "      <td>4</td>\n",
       "      <td>2</td>\n",
       "      <td>2</td>\n",
       "      <td>yes</td>\n",
       "      <td>no</td>\n",
       "      <td>yes</td>\n",
       "      <td>no</td>\n",
       "      <td>yes</td>\n",
       "      <td>3</td>\n",
       "      <td>yes</td>\n",
       "      <td>furnished</td>\n",
       "    </tr>\n",
       "    <tr>\n",
       "      <th>4</th>\n",
       "      <td>11410000</td>\n",
       "      <td>7420</td>\n",
       "      <td>4</td>\n",
       "      <td>1</td>\n",
       "      <td>2</td>\n",
       "      <td>yes</td>\n",
       "      <td>yes</td>\n",
       "      <td>yes</td>\n",
       "      <td>no</td>\n",
       "      <td>yes</td>\n",
       "      <td>2</td>\n",
       "      <td>no</td>\n",
       "      <td>furnished</td>\n",
       "    </tr>\n",
       "  </tbody>\n",
       "</table>\n",
       "</div>\n",
       "      <button class=\"colab-df-convert\" onclick=\"convertToInteractive('df-090b90e6-7829-4609-b530-dc1cbe1cd547')\"\n",
       "              title=\"Convert this dataframe to an interactive table.\"\n",
       "              style=\"display:none;\">\n",
       "        \n",
       "  <svg xmlns=\"http://www.w3.org/2000/svg\" height=\"24px\"viewBox=\"0 0 24 24\"\n",
       "       width=\"24px\">\n",
       "    <path d=\"M0 0h24v24H0V0z\" fill=\"none\"/>\n",
       "    <path d=\"M18.56 5.44l.94 2.06.94-2.06 2.06-.94-2.06-.94-.94-2.06-.94 2.06-2.06.94zm-11 1L8.5 8.5l.94-2.06 2.06-.94-2.06-.94L8.5 2.5l-.94 2.06-2.06.94zm10 10l.94 2.06.94-2.06 2.06-.94-2.06-.94-.94-2.06-.94 2.06-2.06.94z\"/><path d=\"M17.41 7.96l-1.37-1.37c-.4-.4-.92-.59-1.43-.59-.52 0-1.04.2-1.43.59L10.3 9.45l-7.72 7.72c-.78.78-.78 2.05 0 2.83L4 21.41c.39.39.9.59 1.41.59.51 0 1.02-.2 1.41-.59l7.78-7.78 2.81-2.81c.8-.78.8-2.07 0-2.86zM5.41 20L4 18.59l7.72-7.72 1.47 1.35L5.41 20z\"/>\n",
       "  </svg>\n",
       "      </button>\n",
       "      \n",
       "  <style>\n",
       "    .colab-df-container {\n",
       "      display:flex;\n",
       "      flex-wrap:wrap;\n",
       "      gap: 12px;\n",
       "    }\n",
       "\n",
       "    .colab-df-convert {\n",
       "      background-color: #E8F0FE;\n",
       "      border: none;\n",
       "      border-radius: 50%;\n",
       "      cursor: pointer;\n",
       "      display: none;\n",
       "      fill: #1967D2;\n",
       "      height: 32px;\n",
       "      padding: 0 0 0 0;\n",
       "      width: 32px;\n",
       "    }\n",
       "\n",
       "    .colab-df-convert:hover {\n",
       "      background-color: #E2EBFA;\n",
       "      box-shadow: 0px 1px 2px rgba(60, 64, 67, 0.3), 0px 1px 3px 1px rgba(60, 64, 67, 0.15);\n",
       "      fill: #174EA6;\n",
       "    }\n",
       "\n",
       "    [theme=dark] .colab-df-convert {\n",
       "      background-color: #3B4455;\n",
       "      fill: #D2E3FC;\n",
       "    }\n",
       "\n",
       "    [theme=dark] .colab-df-convert:hover {\n",
       "      background-color: #434B5C;\n",
       "      box-shadow: 0px 1px 3px 1px rgba(0, 0, 0, 0.15);\n",
       "      filter: drop-shadow(0px 1px 2px rgba(0, 0, 0, 0.3));\n",
       "      fill: #FFFFFF;\n",
       "    }\n",
       "  </style>\n",
       "\n",
       "      <script>\n",
       "        const buttonEl =\n",
       "          document.querySelector('#df-090b90e6-7829-4609-b530-dc1cbe1cd547 button.colab-df-convert');\n",
       "        buttonEl.style.display =\n",
       "          google.colab.kernel.accessAllowed ? 'block' : 'none';\n",
       "\n",
       "        async function convertToInteractive(key) {\n",
       "          const element = document.querySelector('#df-090b90e6-7829-4609-b530-dc1cbe1cd547');\n",
       "          const dataTable =\n",
       "            await google.colab.kernel.invokeFunction('convertToInteractive',\n",
       "                                                     [key], {});\n",
       "          if (!dataTable) return;\n",
       "\n",
       "          const docLinkHtml = 'Like what you see? Visit the ' +\n",
       "            '<a target=\"_blank\" href=https://colab.research.google.com/notebooks/data_table.ipynb>data table notebook</a>'\n",
       "            + ' to learn more about interactive tables.';\n",
       "          element.innerHTML = '';\n",
       "          dataTable['output_type'] = 'display_data';\n",
       "          await google.colab.output.renderOutput(dataTable, element);\n",
       "          const docLink = document.createElement('div');\n",
       "          docLink.innerHTML = docLinkHtml;\n",
       "          element.appendChild(docLink);\n",
       "        }\n",
       "      </script>\n",
       "    </div>\n",
       "  </div>\n",
       "  "
      ],
      "text/plain": [
       "      price  area  bedrooms  ...  parking  prefarea furnishingstatus\n",
       "0  13300000  7420         4  ...        2       yes        furnished\n",
       "1  12250000  8960         4  ...        3        no        furnished\n",
       "2  12250000  9960         3  ...        2       yes   semi-furnished\n",
       "3  12215000  7500         4  ...        3       yes        furnished\n",
       "4  11410000  7420         4  ...        2        no        furnished\n",
       "\n",
       "[5 rows x 13 columns]"
      ]
     },
     "execution_count": 218,
     "metadata": {},
     "output_type": "execute_result"
    }
   ],
   "source": [
    "housing = pd.DataFrame(pd.read_csv(\"Housing.csv\"))\n",
    "housing.head()"
   ]
  },
  {
   "cell_type": "markdown",
   "metadata": {
    "id": "vgjFP2bjZ_7f"
   },
   "source": [
    "Here we separate the values that we want for our training which are area, bedrooms, bathrooms, stories, and parking. Based on these, we want to predict the price. "
   ]
  },
  {
   "cell_type": "code",
   "execution_count": 219,
   "metadata": {
    "colab": {
     "base_uri": "https://localhost:8080/",
     "height": 206
    },
    "id": "RbedWphh9E7f",
    "outputId": "55513d1d-2972-4fde-f4e4-b2c8ca8c71dc"
   },
   "outputs": [
    {
     "data": {
      "text/html": [
       "\n",
       "  <div id=\"df-58c54ba6-d391-4cce-b8e1-656526d80830\">\n",
       "    <div class=\"colab-df-container\">\n",
       "      <div>\n",
       "<style scoped>\n",
       "    .dataframe tbody tr th:only-of-type {\n",
       "        vertical-align: middle;\n",
       "    }\n",
       "\n",
       "    .dataframe tbody tr th {\n",
       "        vertical-align: top;\n",
       "    }\n",
       "\n",
       "    .dataframe thead th {\n",
       "        text-align: right;\n",
       "    }\n",
       "</style>\n",
       "<table border=\"1\" class=\"dataframe\">\n",
       "  <thead>\n",
       "    <tr style=\"text-align: right;\">\n",
       "      <th></th>\n",
       "      <th>area</th>\n",
       "      <th>bedrooms</th>\n",
       "      <th>bathrooms</th>\n",
       "      <th>stories</th>\n",
       "      <th>parking</th>\n",
       "    </tr>\n",
       "  </thead>\n",
       "  <tbody>\n",
       "    <tr>\n",
       "      <th>0</th>\n",
       "      <td>7420</td>\n",
       "      <td>4</td>\n",
       "      <td>2</td>\n",
       "      <td>3</td>\n",
       "      <td>2</td>\n",
       "    </tr>\n",
       "    <tr>\n",
       "      <th>1</th>\n",
       "      <td>8960</td>\n",
       "      <td>4</td>\n",
       "      <td>4</td>\n",
       "      <td>4</td>\n",
       "      <td>3</td>\n",
       "    </tr>\n",
       "    <tr>\n",
       "      <th>2</th>\n",
       "      <td>9960</td>\n",
       "      <td>3</td>\n",
       "      <td>2</td>\n",
       "      <td>2</td>\n",
       "      <td>2</td>\n",
       "    </tr>\n",
       "    <tr>\n",
       "      <th>3</th>\n",
       "      <td>7500</td>\n",
       "      <td>4</td>\n",
       "      <td>2</td>\n",
       "      <td>2</td>\n",
       "      <td>3</td>\n",
       "    </tr>\n",
       "    <tr>\n",
       "      <th>4</th>\n",
       "      <td>7420</td>\n",
       "      <td>4</td>\n",
       "      <td>1</td>\n",
       "      <td>2</td>\n",
       "      <td>2</td>\n",
       "    </tr>\n",
       "  </tbody>\n",
       "</table>\n",
       "</div>\n",
       "      <button class=\"colab-df-convert\" onclick=\"convertToInteractive('df-58c54ba6-d391-4cce-b8e1-656526d80830')\"\n",
       "              title=\"Convert this dataframe to an interactive table.\"\n",
       "              style=\"display:none;\">\n",
       "        \n",
       "  <svg xmlns=\"http://www.w3.org/2000/svg\" height=\"24px\"viewBox=\"0 0 24 24\"\n",
       "       width=\"24px\">\n",
       "    <path d=\"M0 0h24v24H0V0z\" fill=\"none\"/>\n",
       "    <path d=\"M18.56 5.44l.94 2.06.94-2.06 2.06-.94-2.06-.94-.94-2.06-.94 2.06-2.06.94zm-11 1L8.5 8.5l.94-2.06 2.06-.94-2.06-.94L8.5 2.5l-.94 2.06-2.06.94zm10 10l.94 2.06.94-2.06 2.06-.94-2.06-.94-.94-2.06-.94 2.06-2.06.94z\"/><path d=\"M17.41 7.96l-1.37-1.37c-.4-.4-.92-.59-1.43-.59-.52 0-1.04.2-1.43.59L10.3 9.45l-7.72 7.72c-.78.78-.78 2.05 0 2.83L4 21.41c.39.39.9.59 1.41.59.51 0 1.02-.2 1.41-.59l7.78-7.78 2.81-2.81c.8-.78.8-2.07 0-2.86zM5.41 20L4 18.59l7.72-7.72 1.47 1.35L5.41 20z\"/>\n",
       "  </svg>\n",
       "      </button>\n",
       "      \n",
       "  <style>\n",
       "    .colab-df-container {\n",
       "      display:flex;\n",
       "      flex-wrap:wrap;\n",
       "      gap: 12px;\n",
       "    }\n",
       "\n",
       "    .colab-df-convert {\n",
       "      background-color: #E8F0FE;\n",
       "      border: none;\n",
       "      border-radius: 50%;\n",
       "      cursor: pointer;\n",
       "      display: none;\n",
       "      fill: #1967D2;\n",
       "      height: 32px;\n",
       "      padding: 0 0 0 0;\n",
       "      width: 32px;\n",
       "    }\n",
       "\n",
       "    .colab-df-convert:hover {\n",
       "      background-color: #E2EBFA;\n",
       "      box-shadow: 0px 1px 2px rgba(60, 64, 67, 0.3), 0px 1px 3px 1px rgba(60, 64, 67, 0.15);\n",
       "      fill: #174EA6;\n",
       "    }\n",
       "\n",
       "    [theme=dark] .colab-df-convert {\n",
       "      background-color: #3B4455;\n",
       "      fill: #D2E3FC;\n",
       "    }\n",
       "\n",
       "    [theme=dark] .colab-df-convert:hover {\n",
       "      background-color: #434B5C;\n",
       "      box-shadow: 0px 1px 3px 1px rgba(0, 0, 0, 0.15);\n",
       "      filter: drop-shadow(0px 1px 2px rgba(0, 0, 0, 0.3));\n",
       "      fill: #FFFFFF;\n",
       "    }\n",
       "  </style>\n",
       "\n",
       "      <script>\n",
       "        const buttonEl =\n",
       "          document.querySelector('#df-58c54ba6-d391-4cce-b8e1-656526d80830 button.colab-df-convert');\n",
       "        buttonEl.style.display =\n",
       "          google.colab.kernel.accessAllowed ? 'block' : 'none';\n",
       "\n",
       "        async function convertToInteractive(key) {\n",
       "          const element = document.querySelector('#df-58c54ba6-d391-4cce-b8e1-656526d80830');\n",
       "          const dataTable =\n",
       "            await google.colab.kernel.invokeFunction('convertToInteractive',\n",
       "                                                     [key], {});\n",
       "          if (!dataTable) return;\n",
       "\n",
       "          const docLinkHtml = 'Like what you see? Visit the ' +\n",
       "            '<a target=\"_blank\" href=https://colab.research.google.com/notebooks/data_table.ipynb>data table notebook</a>'\n",
       "            + ' to learn more about interactive tables.';\n",
       "          element.innerHTML = '';\n",
       "          dataTable['output_type'] = 'display_data';\n",
       "          await google.colab.output.renderOutput(dataTable, element);\n",
       "          const docLink = document.createElement('div');\n",
       "          docLink.innerHTML = docLinkHtml;\n",
       "          element.appendChild(docLink);\n",
       "        }\n",
       "      </script>\n",
       "    </div>\n",
       "  </div>\n",
       "  "
      ],
      "text/plain": [
       "   area  bedrooms  bathrooms  stories  parking\n",
       "0  7420         4          2        3        2\n",
       "1  8960         4          4        4        3\n",
       "2  9960         3          2        2        2\n",
       "3  7500         4          2        2        3\n",
       "4  7420         4          1        2        2"
      ]
     },
     "execution_count": 219,
     "metadata": {},
     "output_type": "execute_result"
    }
   ],
   "source": [
    "x_vars = ['area', 'bedrooms', 'bathrooms', 'stories', 'parking']\n",
    "y_vars = ['price']\n",
    "x_df = housing[x_vars]\n",
    "y_df = housing[y_vars]\n",
    "x_df.head()"
   ]
  },
  {
   "cell_type": "markdown",
   "metadata": {
    "id": "k8LCz8oxaN4N"
   },
   "source": [
    "Just like the previous section, we write the model, loss function, and gradiant descent, but for 6 parameters. "
   ]
  },
  {
   "cell_type": "code",
   "execution_count": 221,
   "metadata": {
    "id": "v9a63afB9RAx"
   },
   "outputs": [],
   "source": [
    "def model (params, x):\n",
    "  return params[5]*x[:,4] + params[4]*x[:,3] + params[3]*x[:,2]\n",
    "  + params[2]*x[:,1]+ params[1]*x[:,0] + params[0]\n",
    "\n",
    "def loss_fn (y_p, y):\n",
    "  squared_diffs = (y_p - y)**2\n",
    "  return squared_diffs.mean()\n",
    "\n",
    "def dloss_fn (y_p, y):\n",
    "  return 2 * (y_p - y) / y_p.size(0)\n",
    "\n",
    "def dmodel_dw4 (w, x):\n",
    "  return x[:,4]\n",
    "\n",
    "def dmodel_dw3 (w, x):\n",
    "  return x[:,3]\n",
    "\n",
    "def dmodel_dw2 (w, x):\n",
    "  return x[:,2]\n",
    "\n",
    "def dmodel_dw1 (w, x):\n",
    "  return x[:,1]\n",
    "\n",
    "def dmodel_dw0 (w, x):\n",
    "  return x[:,0]\n",
    "\n",
    "def dmodel_db (params):\n",
    "  return 1.0\n",
    "\n",
    "def grad_fn (x, y, y_p, params):\n",
    "  dloss_dyp = dloss_fn (y_p, y)\n",
    "  dloss_dw4 = dloss_dyp * dmodel_dw4 (params, x)\n",
    "  dloss_dw3 = dloss_dyp * dmodel_dw3 (params, x)\n",
    "  dloss_dw2 = dloss_dyp * dmodel_dw2 (params, x)\n",
    "  dloss_dw1 = dloss_dyp * dmodel_dw1 (params, x)\n",
    "  dloss_dw0 = dloss_dyp * dmodel_dw0 (params, x)\n",
    "  dloss_db  = dloss_dyp * dmodel_db(params)\n",
    "  return torch.stack([dloss_dw4.sum(), dloss_dw3.sum(), dloss_dw2.sum(), \n",
    "                      dloss_dw1.sum(), dloss_dw0.sum(), dloss_db.sum()])\n",
    "\n",
    "def training_loop (n_epochs, learning_rate, params, x, y):\n",
    "  for epoch in range(1, n_epochs + 1):\n",
    "    \n",
    "    y_p = model(params, x)\n",
    "    loss = loss_fn(y_p, y)\n",
    "    grad = grad_fn(x, y, y_p, params)\n",
    "\n",
    "    params = params - learning_rate * grad\n",
    "\n",
    "    if (epoch % 500 == 0):\n",
    "      print ('Epoch %d, Loss %f' % (epoch, float(loss)))\n",
    "\n",
    "  return params"
   ]
  },
  {
   "cell_type": "markdown",
   "metadata": {
    "id": "t6keeb6AamLy"
   },
   "source": [
    "Here we convrt pandas dataframe to torch tensor:"
   ]
  },
  {
   "cell_type": "code",
   "execution_count": 222,
   "metadata": {
    "colab": {
     "base_uri": "https://localhost:8080/"
    },
    "id": "bP6WjdEWBHgY",
    "outputId": "ed6824bc-9e4c-4628-e717-49a70b5348f8"
   },
   "outputs": [
    {
     "data": {
      "text/plain": [
       "torch.Size([545])"
      ]
     },
     "execution_count": 222,
     "metadata": {},
     "output_type": "execute_result"
    }
   ],
   "source": [
    "x = torch.tensor(x_df.values, dtype = torch.float64)\n",
    "y = torch.tensor(housing['price'].values, dtype = torch.float64)\n",
    "y.shape"
   ]
  },
  {
   "cell_type": "markdown",
   "metadata": {
    "id": "kUgYnvMCa75C"
   },
   "source": [
    "We normalize our inputs in a very simple way to push them into a specific range so that our training may converge faster:"
   ]
  },
  {
   "cell_type": "code",
   "execution_count": 223,
   "metadata": {
    "colab": {
     "base_uri": "https://localhost:8080/"
    },
    "id": "aglXGBT9MKqi",
    "outputId": "d54f35ff-bfaf-4a74-8724-0197489ab665"
   },
   "outputs": [
    {
     "data": {
      "text/plain": [
       "tensor([[0.0569, 0.0561, 0.0620, 0.0642, 0.0775],\n",
       "        [0.0687, 0.0561, 0.1241, 0.0856, 0.1162],\n",
       "        [0.0763, 0.0421, 0.0620, 0.0428, 0.0775],\n",
       "        ...,\n",
       "        [0.0277, 0.0280, 0.0310, 0.0214, 0.0000],\n",
       "        [0.0223, 0.0421, 0.0310, 0.0214, 0.0000],\n",
       "        [0.0295, 0.0421, 0.0310, 0.0428, 0.0000]], dtype=torch.float64)"
      ]
     },
     "execution_count": 223,
     "metadata": {},
     "output_type": "execute_result"
    }
   ],
   "source": [
    "normalized_x = torch.nn.functional.normalize(x, dim = 0)\n",
    "normalized_x"
   ]
  },
  {
   "cell_type": "markdown",
   "metadata": {
    "id": "XdXYu65ybEeC"
   },
   "source": [
    "We start the training with a learning of 0.1 and reduce it to 0.0001:"
   ]
  },
  {
   "cell_type": "code",
   "execution_count": 224,
   "metadata": {
    "colab": {
     "base_uri": "https://localhost:8080/"
    },
    "id": "NtmQDNkGCdEQ",
    "outputId": "71872395-70ca-4613-f9ce-3fffd07fea4f"
   },
   "outputs": [
    {
     "name": "stdout",
     "output_type": "stream",
     "text": [
      "Epoch 500, Loss 21527365429800.191406\n",
      "Epoch 1000, Loss 24239310612996.210938\n",
      "Epoch 1500, Loss 25035541606579.308594\n",
      "Epoch 2000, Loss 25759972933079.582031\n",
      "Epoch 2500, Loss 26507710142568.332031\n",
      "Epoch 3000, Loss 27284465473253.667969\n",
      "Epoch 3500, Loss 28091680697091.457031\n",
      "Epoch 4000, Loss 28930642197583.296875\n",
      "Epoch 4500, Loss 29802681497670.417969\n",
      "Epoch 5000, Loss 30709187234405.140625\n"
     ]
    }
   ],
   "source": [
    "params = torch.tensor([1.0, 1.0, 1.0, 1.0, 1.0, 0.0])\n",
    "params = training_loop(5000, 0.1, params, normalized_x, y)"
   ]
  },
  {
   "cell_type": "code",
   "execution_count": 225,
   "metadata": {
    "colab": {
     "base_uri": "https://localhost:8080/"
    },
    "id": "Q97PAczWDArs",
    "outputId": "2b9c76f1-e388-49ee-8353-c069d546dae6"
   },
   "outputs": [
    {
     "name": "stdout",
     "output_type": "stream",
     "text": [
      "Epoch 500, Loss 15741784735822.912109\n",
      "Epoch 1000, Loss 12428033335815.000000\n",
      "Epoch 1500, Loss 12409401062579.669922\n",
      "Epoch 2000, Loss 13726635608044.496094\n",
      "Epoch 2500, Loss 15432556481207.373047\n",
      "Epoch 3000, Loss 17099841900577.794922\n",
      "Epoch 3500, Loss 18561161190319.906250\n",
      "Epoch 4000, Loss 19773696249095.710938\n",
      "Epoch 4500, Loss 20749822946721.109375\n",
      "Epoch 5000, Loss 21522655898376.820312\n"
     ]
    }
   ],
   "source": [
    "params = torch.tensor([1.0, 1.0, 1.0, 1.0, 1.0, 0.0])\n",
    "params = training_loop(5000, 0.01, params, normalized_x, y)"
   ]
  },
  {
   "cell_type": "code",
   "execution_count": 226,
   "metadata": {
    "colab": {
     "base_uri": "https://localhost:8080/"
    },
    "id": "TtFj5C1lE4q2",
    "outputId": "f4b62705-3b95-49b3-b01d-312780a5bd60"
   },
   "outputs": [
    {
     "name": "stdout",
     "output_type": "stream",
     "text": [
      "Epoch 500, Loss 24670617182547.296875\n",
      "Epoch 1000, Loss 23256393590196.359375\n",
      "Epoch 1500, Loss 21965385318737.058594\n",
      "Epoch 2000, Loss 20789152531848.246094\n",
      "Epoch 2500, Loss 19719788004187.207031\n",
      "Epoch 3000, Loss 18749884676565.398438\n",
      "Epoch 3500, Loss 17872505155088.167969\n",
      "Epoch 4000, Loss 17081153038719.742188\n",
      "Epoch 4500, Loss 16369745966574.392578\n",
      "Epoch 5000, Loss 15732590282670.207031\n"
     ]
    }
   ],
   "source": [
    "params = torch.tensor([1.0, 1.0, 1.0, 1.0, 1.0, 0.0])\n",
    "params = training_loop(5000, 0.001, params, normalized_x, y)"
   ]
  },
  {
   "cell_type": "code",
   "execution_count": 227,
   "metadata": {
    "colab": {
     "base_uri": "https://localhost:8080/"
    },
    "id": "i3SyNVA7E-Ps",
    "outputId": "30aed42c-fd45-4190-f03e-d96483fadafd"
   },
   "outputs": [
    {
     "name": "stdout",
     "output_type": "stream",
     "text": [
      "Epoch 500, Loss 26053321216475.667969\n",
      "Epoch 1000, Loss 25893895088920.285156\n",
      "Epoch 1500, Loss 25735866793431.515625\n",
      "Epoch 2000, Loss 25579226569093.187500\n",
      "Epoch 2500, Loss 25423964718025.863281\n",
      "Epoch 3000, Loss 25270071604993.144531\n",
      "Epoch 3500, Loss 25117537657010.445312\n",
      "Epoch 4000, Loss 24966353362956.125000\n",
      "Epoch 4500, Loss 24816509273185.042969\n",
      "Epoch 5000, Loss 24667995999144.480469\n"
     ]
    }
   ],
   "source": [
    "params = torch.tensor([1.0, 1.0, 1.0, 1.0, 1.0, 0.0])\n",
    "params = training_loop(5000, 0.0001, params, normalized_x, y)"
   ]
  },
  {
   "cell_type": "markdown",
   "metadata": {
    "id": "1mRbj8YxbhDy"
   },
   "source": [
    "As it can be seen, 0.001 is a better learning rate, and convergance happens faster with 0.001. This is because the steps are larger, and for 0.0001 we need more epochs."
   ]
  },
  {
   "cell_type": "code",
   "execution_count": null,
   "metadata": {
    "id": "eyOUDmnoRFgI"
   },
   "outputs": [],
   "source": []
  }
 ],
 "metadata": {
  "colab": {
   "collapsed_sections": [],
   "name": "HW1.ipynb",
   "provenance": []
  },
  "kernelspec": {
   "display_name": "Python 3",
   "language": "python",
   "name": "python3"
  },
  "language_info": {
   "codemirror_mode": {
    "name": "ipython",
    "version": 3
   },
   "file_extension": ".py",
   "mimetype": "text/x-python",
   "name": "python",
   "nbconvert_exporter": "python",
   "pygments_lexer": "ipython3",
   "version": "3.8.8"
  }
 },
 "nbformat": 4,
 "nbformat_minor": 1
}
